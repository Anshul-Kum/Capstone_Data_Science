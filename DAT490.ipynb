{
  "nbformat": 4,
  "nbformat_minor": 0,
  "metadata": {
    "colab": {
      "provenance": [],
      "authorship_tag": "ABX9TyMcWgRVvq6bFbX8SD9VGJES",
      "include_colab_link": true
    },
    "kernelspec": {
      "name": "python3",
      "display_name": "Python 3"
    },
    "language_info": {
      "name": "python"
    }
  },
  "cells": [
    {
      "cell_type": "markdown",
      "metadata": {
        "id": "view-in-github",
        "colab_type": "text"
      },
      "source": [
        "<a href=\"https://colab.research.google.com/github/Anshul-Kum/DAT402/blob/main/DAT490.ipynb\" target=\"_parent\"><img src=\"https://colab.research.google.com/assets/colab-badge.svg\" alt=\"Open In Colab\"/></a>"
      ]
    },
    {
      "cell_type": "code",
      "execution_count": null,
      "metadata": {
        "id": "yAWsy84AR9xj"
      },
      "outputs": [],
      "source": [
        "from google.colab import auth\n",
        "auth.authenticate_user()\n",
        "\n",
        "# Install Google Cloud Storage package\n",
        "#!pip install gcsfs google-cloud-storage"
      ]
    },
    {
      "cell_type": "code",
      "source": [
        "from google.cloud import storage\n",
        "\n",
        "project_id = \"sharp-matter-449521-u2\"\n",
        "!gcloud config set project {project_id}"
      ],
      "metadata": {
        "colab": {
          "base_uri": "https://localhost:8080/"
        },
        "id": "_j2Rle19SLDM",
        "outputId": "f4516fa2-9b01-43f4-d1c6-663dd3bed63c"
      },
      "execution_count": null,
      "outputs": [
        {
          "output_type": "stream",
          "name": "stdout",
          "text": [
            "Updated property [core/project].\n"
          ]
        }
      ]
    },
    {
      "cell_type": "code",
      "source": [
        "bucket_name = \"my-group-project-bucket-dat490\"\n",
        "storage_client = storage.Client(project=project_id)\n",
        "\n",
        "# Create a new bucket if it doesn't exist\n",
        "try:\n",
        "    bucket = storage_client.create_bucket(bucket_name)\n",
        "    print(f\"Bucket {bucket_name} created successfully.\")\n",
        "except Exception as e:\n",
        "    print(f\"Bucket already exists or error: {e}\")"
      ],
      "metadata": {
        "colab": {
          "base_uri": "https://localhost:8080/"
        },
        "id": "YaAZ3klwXA81",
        "outputId": "48d652b5-e28d-44b5-ec12-b24eaabde11a"
      },
      "execution_count": null,
      "outputs": [
        {
          "output_type": "stream",
          "name": "stdout",
          "text": [
            "Bucket already exists or error: 409 POST https://storage.googleapis.com/storage/v1/b?project=sharp-matter-449521-u2&prettyPrint=false: Your previous request to create the named bucket succeeded and you already own it.\n"
          ]
        }
      ]
    },
    {
      "cell_type": "code",
      "source": [
        "# # Save a test file to GCS\n",
        "# file_name = \"test_file.txt\"\n",
        "# with open(file_name, \"w\") as file:\n",
        "#     file.write(\"This is a test file.\")\n",
        "\n",
        "# # Upload the file to GCS\n",
        "# bucket = storage_client.bucket(bucket_name)\n",
        "# blob = bucket.blob(file_name)\n",
        "# blob.upload_from_filename(file_name)\n",
        "\n",
        "# print(f\"{file_name} uploaded to {bucket_name}.\")"
      ],
      "metadata": {
        "colab": {
          "base_uri": "https://localhost:8080/"
        },
        "id": "40oAOKu1XJ9G",
        "outputId": "0c25f28f-f38d-4fd0-c129-7ff608bba84e"
      },
      "execution_count": null,
      "outputs": [
        {
          "output_type": "stream",
          "name": "stdout",
          "text": [
            "test_file.txt uploaded to my-group-project-bucket-dat490.\n"
          ]
        }
      ]
    },
    {
      "cell_type": "code",
      "source": [
        "blobs = bucket.list_blobs()\n",
        "print(\"Files in GCS bucket:\")\n",
        "for blob in blobs:\n",
        "    print(blob.name)"
      ],
      "metadata": {
        "id": "71jdg60DXZei",
        "outputId": "01501b4f-1ca7-4326-b3dd-cee41a13ccdb",
        "colab": {
          "base_uri": "https://localhost:8080/"
        }
      },
      "execution_count": null,
      "outputs": [
        {
          "output_type": "stream",
          "name": "stdout",
          "text": [
            "Files in GCS bucket:\n",
            "test_file.txt\n"
          ]
        }
      ]
    },
    {
      "cell_type": "code",
      "source": [
        "from google.cloud import storage\n",
        "from urllib.request import urlopen\n",
        "\n",
        "# Initialize Google Cloud Storage Client\n",
        "client = storage.Client()\n",
        "\n",
        "# Define your GCS bucket name\n",
        "bucket_name = \"my-group-project-bucket-dat490\"  # Replace with your bucket name\n",
        "bucket = client.get_bucket(bucket_name)\n",
        "\n",
        "def download_file_fast(url, file_path):\n",
        "    \"\"\"Download the file from URL and save it locally.\"\"\"\n",
        "    print(f\"Downloading {file_path} from {url}...\")\n",
        "    try:\n",
        "        with urlopen(url) as resp:\n",
        "            data = resp.read()  # Read entire binary content\n",
        "            with open(file_path, \"wb\") as binfile:\n",
        "                binfile.write(data)  # Save to file\n",
        "        print(f\"Download successful: {file_path}\")\n",
        "    except Exception as e:\n",
        "        print(f\"Error downloading file: {e}\")\n",
        "\n",
        "def upload_json_gz_to_gcs(url, state_name, file_type):\n",
        "    \"\"\"Download and upload .json.gz file to GCS.\"\"\"\n",
        "    file_path = f\"{state_name}-{file_type}.json.gz\"\n",
        "\n",
        "    # Download the file\n",
        "    download_file_fast(url, file_path)\n",
        "\n",
        "    # Upload the file directly to GCS\n",
        "    try:\n",
        "        blob = bucket.blob(file_path)\n",
        "        blob.upload_from_filename(file_path)\n",
        "        print(f\"{file_path} uploaded successfully to GCS.\")\n",
        "    except Exception as e:\n",
        "        print(f\"Error uploading file to GCS: {e}\")\n",
        "\n",
        "# List of southeast states\n",
        "southeast_states = [\n",
        "    \"North_Carolina\", \"South_Carolina\", \"West_Virginia\"\n",
        "]\n",
        "\n",
        "# Loop through states and upload both review and metadata files\n",
        "for state in southeast_states:\n",
        "    review_url = f\"https://datarepo.eng.ucsd.edu/mcauley_group/gdrive/googlelocal/review-{state}_10.json.gz\"\n",
        "    metadata_url = f\"https://datarepo.eng.ucsd.edu/mcauley_group/gdrive/googlelocal/meta-{state}.json.gz\"\n",
        "\n",
        "    upload_json_gz_to_gcs(review_url, state, \"reviews\")\n",
        "    upload_json_gz_to_gcs(metadata_url, state, \"metadata\")\n"
      ],
      "metadata": {
        "colab": {
          "base_uri": "https://localhost:8080/"
        },
        "id": "3A70Iwlvr5Dk",
        "outputId": "91449a4f-15b4-47b9-aac0-9d8a606bc943"
      },
      "execution_count": null,
      "outputs": [
        {
          "output_type": "stream",
          "name": "stdout",
          "text": [
            "Downloading North_Carolina-reviews.json.gz from https://datarepo.eng.ucsd.edu/mcauley_group/gdrive/googlelocal/review-North_Carolina_10.json.gz...\n",
            "Download successful: North_Carolina-reviews.json.gz\n",
            "North_Carolina-reviews.json.gz uploaded successfully to GCS.\n",
            "Downloading North_Carolina-metadata.json.gz from https://datarepo.eng.ucsd.edu/mcauley_group/gdrive/googlelocal/meta-North_Carolina.json.gz...\n",
            "Download successful: North_Carolina-metadata.json.gz\n",
            "North_Carolina-metadata.json.gz uploaded successfully to GCS.\n",
            "Downloading South_Carolina-reviews.json.gz from https://datarepo.eng.ucsd.edu/mcauley_group/gdrive/googlelocal/review-South_Carolina_10.json.gz...\n",
            "Download successful: South_Carolina-reviews.json.gz\n",
            "South_Carolina-reviews.json.gz uploaded successfully to GCS.\n",
            "Downloading South_Carolina-metadata.json.gz from https://datarepo.eng.ucsd.edu/mcauley_group/gdrive/googlelocal/meta-South_Carolina.json.gz...\n",
            "Download successful: South_Carolina-metadata.json.gz\n",
            "South_Carolina-metadata.json.gz uploaded successfully to GCS.\n",
            "Downloading West_Virginia-reviews.json.gz from https://datarepo.eng.ucsd.edu/mcauley_group/gdrive/googlelocal/review-West_Virginia_10.json.gz...\n",
            "Download successful: West_Virginia-reviews.json.gz\n",
            "West_Virginia-reviews.json.gz uploaded successfully to GCS.\n",
            "Downloading West_Virginia-metadata.json.gz from https://datarepo.eng.ucsd.edu/mcauley_group/gdrive/googlelocal/meta-West_Virginia.json.gz...\n",
            "Download successful: West_Virginia-metadata.json.gz\n",
            "West_Virginia-metadata.json.gz uploaded successfully to GCS.\n"
          ]
        }
      ]
    }
  ]
}
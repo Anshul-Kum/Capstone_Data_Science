{
  "nbformat": 4,
  "nbformat_minor": 0,
  "metadata": {
    "colab": {
      "provenance": []
    },
    "kernelspec": {
      "name": "python3",
      "display_name": "Python 3"
    },
    "language_info": {
      "name": "python"
    }
  },
  "cells": [
    {
      "cell_type": "markdown",
      "source": [
        "# Methodology"
      ],
      "metadata": {
        "id": "UQT84RLRZkQ0"
      }
    },
    {
      "cell_type": "code",
      "execution_count": 1,
      "metadata": {
        "id": "VO1c4gLFZHmq"
      },
      "outputs": [],
      "source": [
        "from google.colab import auth\n",
        "auth.authenticate_user()"
      ]
    },
    {
      "cell_type": "code",
      "source": [
        "from google.cloud import storage\n",
        "\n",
        "project_id = \"sharp-matter-449521-u2\"\n",
        "!gcloud config set project {project_id}"
      ],
      "metadata": {
        "colab": {
          "base_uri": "https://localhost:8080/"
        },
        "id": "NTWs8cHjZi9I",
        "outputId": "6f54a1b6-801e-422c-a8d9-b2394781a813"
      },
      "execution_count": 2,
      "outputs": [
        {
          "output_type": "stream",
          "name": "stdout",
          "text": [
            "Updated property [core/project].\n"
          ]
        }
      ]
    },
    {
      "cell_type": "code",
      "source": [
        "!wget -P /usr/lib/spark/jars/ https://storage.googleapis.com/hadoop-lib/gcs/gcs-connector-hadoop3-latest.jar"
      ],
      "metadata": {
        "colab": {
          "base_uri": "https://localhost:8080/"
        },
        "id": "7APbB7djZzJa",
        "outputId": "5227f7c1-53a3-4654-a768-cf7e329bb109"
      },
      "execution_count": 3,
      "outputs": [
        {
          "output_type": "stream",
          "name": "stdout",
          "text": [
            "--2025-03-24 04:26:53--  https://storage.googleapis.com/hadoop-lib/gcs/gcs-connector-hadoop3-latest.jar\n",
            "Resolving storage.googleapis.com (storage.googleapis.com)... 173.194.195.207, 172.217.214.207, 142.250.152.207, ...\n",
            "Connecting to storage.googleapis.com (storage.googleapis.com)|173.194.195.207|:443... connected.\n",
            "HTTP request sent, awaiting response... 200 OK\n",
            "Length: 40713341 (39M) [application/java-archive]\n",
            "Saving to: ‘/usr/lib/spark/jars/gcs-connector-hadoop3-latest.jar’\n",
            "\n",
            "gcs-connector-hadoo 100%[===================>]  38.83M   194MB/s    in 0.2s    \n",
            "\n",
            "2025-03-24 04:26:53 (194 MB/s) - ‘/usr/lib/spark/jars/gcs-connector-hadoop3-latest.jar’ saved [40713341/40713341]\n",
            "\n"
          ]
        }
      ]
    },
    {
      "cell_type": "code",
      "source": [
        "import warnings\n",
        "warnings.filterwarnings('ignore')"
      ],
      "metadata": {
        "id": "L079uOWHZ01C"
      },
      "execution_count": 4,
      "outputs": []
    },
    {
      "cell_type": "code",
      "source": [
        "from pyspark.sql import SparkSession"
      ],
      "metadata": {
        "id": "n2ln6OwIZ2hY"
      },
      "execution_count": 5,
      "outputs": []
    },
    {
      "cell_type": "code",
      "source": [
        "spark = SparkSession.builder \\\n",
        "    .appName(\"BigDataProcessing\") \\\n",
        "    .config(\"spark.jars\", \"/usr/lib/spark/jars/gcs-connector-hadoop3-latest.jar\") \\\n",
        "    .config(\"spark.hadoop.fs.gs.impl\", \"com.google.cloud.hadoop.fs.gcs.GoogleHadoopFileSystem\") \\\n",
        "    .config(\"spark.hadoop.fs.gs.auth.service.account.enable\", \"true\") \\\n",
        "    .getOrCreate()"
      ],
      "metadata": {
        "id": "2vB5jicSZ37W"
      },
      "execution_count": 6,
      "outputs": []
    },
    {
      "cell_type": "code",
      "source": [
        "spark"
      ],
      "metadata": {
        "colab": {
          "base_uri": "https://localhost:8080/",
          "height": 219
        },
        "id": "rISybm2RZ56L",
        "outputId": "e0e64fa5-bece-4fc6-c231-02bca493abe8"
      },
      "execution_count": 7,
      "outputs": [
        {
          "output_type": "execute_result",
          "data": {
            "text/plain": [
              "<pyspark.sql.session.SparkSession at 0x7f74b43c5810>"
            ],
            "text/html": [
              "\n",
              "            <div>\n",
              "                <p><b>SparkSession - in-memory</b></p>\n",
              "                \n",
              "        <div>\n",
              "            <p><b>SparkContext</b></p>\n",
              "\n",
              "            <p><a href=\"http://ed5889b994e9:4040\">Spark UI</a></p>\n",
              "\n",
              "            <dl>\n",
              "              <dt>Version</dt>\n",
              "                <dd><code>v3.5.5</code></dd>\n",
              "              <dt>Master</dt>\n",
              "                <dd><code>local[*]</code></dd>\n",
              "              <dt>AppName</dt>\n",
              "                <dd><code>BigDataProcessing</code></dd>\n",
              "            </dl>\n",
              "        </div>\n",
              "        \n",
              "            </div>\n",
              "        "
            ]
          },
          "metadata": {},
          "execution_count": 7
        }
      ]
    },
    {
      "cell_type": "code",
      "source": [
        "df_reviews = spark.read.parquet('gs://final_dataset_dat490/dat490_final_dataset_cleaned.parquet', headers=True, inferSchema=True)"
      ],
      "metadata": {
        "id": "a7U3yjH-Z7zm"
      },
      "execution_count": 8,
      "outputs": []
    },
    {
      "cell_type": "code",
      "source": [
        "df_reviews.columns"
      ],
      "metadata": {
        "colab": {
          "base_uri": "https://localhost:8080/"
        },
        "id": "_FrSmrf7Z_At",
        "outputId": "a8625374-e3da-4076-de49-c8e3d57c36c2"
      },
      "execution_count": 9,
      "outputs": [
        {
          "output_type": "execute_result",
          "data": {
            "text/plain": [
              "['gmap_id',\n",
              " 'customer_name',\n",
              " 'rating',\n",
              " 'reviews',\n",
              " 'time',\n",
              " 'avg_rating',\n",
              " 'category',\n",
              " 'latitude',\n",
              " 'longitude',\n",
              " 'business_name',\n",
              " 'num_of_reviews',\n",
              " 'state',\n",
              " 'standard_category',\n",
              " 'Monday',\n",
              " 'Tuesday',\n",
              " 'Wednesday',\n",
              " 'Thursday',\n",
              " 'Friday',\n",
              " 'Saturday',\n",
              " 'Sunday',\n",
              " 'timestamp',\n",
              " 'week',\n",
              " 'month',\n",
              " 'year',\n",
              " 'time_seconds']"
            ]
          },
          "metadata": {},
          "execution_count": 9
        }
      ]
    },
    {
      "cell_type": "markdown",
      "source": [
        "## VADER"
      ],
      "metadata": {
        "id": "bS01MkOXaIX1"
      }
    },
    {
      "cell_type": "code",
      "source": [
        "from pyspark.sql.functions import udf\n",
        "from pyspark.sql.types import FloatType\n",
        "from nltk.sentiment.vader import SentimentIntensityAnalyzer\n",
        "import nltk\n",
        "nltk.download(\"vader_lexicon\")\n",
        "\n",
        "# Initializing VADER\n",
        "sia = SentimentIntensityAnalyzer()\n",
        "\n",
        "def vader_sentiment(text):\n",
        "    if text:\n",
        "        return float(sia.polarity_scores(text)[\"compound\"])\n",
        "    else:\n",
        "        return 0.0\n",
        "\n",
        "vader_udf = udf(vader_sentiment, FloatType())\n",
        "\n",
        "df_sentiment = df_reviews.withColumn(\"sentiment_score\", vader_udf(\"reviews\"))"
      ],
      "metadata": {
        "colab": {
          "base_uri": "https://localhost:8080/"
        },
        "id": "up7KtFXnaBZB",
        "outputId": "07ef5216-d651-469a-8f88-25577fb0fcf6"
      },
      "execution_count": 10,
      "outputs": [
        {
          "output_type": "stream",
          "name": "stderr",
          "text": [
            "[nltk_data] Downloading package vader_lexicon to /root/nltk_data...\n"
          ]
        }
      ]
    },
    {
      "cell_type": "code",
      "source": [
        "from pyspark.sql.functions import when\n",
        "\n",
        "df_sentiment = df_sentiment.withColumn(\n",
        "    \"sentiment_label\",\n",
        "    when(df_sentiment[\"sentiment_score\"] > 0.05, \"Positive\")\n",
        "    .when(df_sentiment[\"sentiment_score\"] < -0.05, \"Negative\")\n",
        "    .otherwise(\"Neutral\")\n",
        ")"
      ],
      "metadata": {
        "id": "mQdXeCApaQ8q"
      },
      "execution_count": 11,
      "outputs": []
    },
    {
      "cell_type": "code",
      "source": [
        "df_sentiment.select(\"reviews\", \"sentiment_score\", \"sentiment_label\").show(10)"
      ],
      "metadata": {
        "colab": {
          "base_uri": "https://localhost:8080/"
        },
        "id": "NVU5nPt9aV5n",
        "outputId": "06aca8cc-b826-401b-f0b5-4826093903f7"
      },
      "execution_count": 13,
      "outputs": [
        {
          "output_type": "stream",
          "name": "stdout",
          "text": [
            "+--------------------+---------------+---------------+\n",
            "|             reviews|sentiment_score|sentiment_label|\n",
            "+--------------------+---------------+---------------+\n",
            "|The pizza, steak ...|         0.6114|       Positive|\n",
            "|Great way to get ...|         0.6249|       Positive|\n",
            "|Went there for a ...|         0.7392|       Positive|\n",
            "|Friendly and know...|         0.4939|       Positive|\n",
            "|My personal choic...|         0.8308|       Positive|\n",
            "|This store has be...|        -0.6324|       Negative|\n",
            "|I am disappointed...|          0.975|       Positive|\n",
            "|AUAF oversee a va...|         0.9042|       Positive|\n",
            "|Great neighborhoo...|         0.6249|       Positive|\n",
            "|This is place is ...|         0.8807|       Positive|\n",
            "+--------------------+---------------+---------------+\n",
            "only showing top 10 rows\n",
            "\n"
          ]
        }
      ]
    },
    {
      "cell_type": "code",
      "source": [
        "from pyspark.sql.functions import approx_count_distinct\n",
        "\n",
        "df_sentiment_counts = df_sentiment.groupBy(\"sentiment_label\").agg(approx_count_distinct(\"gmap_id\").alias(\"approx_count\"))"
      ],
      "metadata": {
        "id": "0lRqqhRvaXbE"
      },
      "execution_count": 14,
      "outputs": []
    },
    {
      "cell_type": "code",
      "source": [
        "from pyspark.sql.functions import approx_count_distinct\n",
        "\n",
        "df_sentiment.groupBy(\"sentiment_label\").agg(approx_count_distinct(\"gmap_id\").alias(\"approx_count\")).show()"
      ],
      "metadata": {
        "colab": {
          "base_uri": "https://localhost:8080/"
        },
        "id": "YcYZ3qAXapTt",
        "outputId": "34508a99-b1e8-4022-e995-eb0e37452253"
      },
      "execution_count": 15,
      "outputs": [
        {
          "output_type": "stream",
          "name": "stdout",
          "text": [
            "+---------------+------------+\n",
            "|sentiment_label|approx_count|\n",
            "+---------------+------------+\n",
            "|       Positive|     2647752|\n",
            "|        Neutral|       91804|\n",
            "|       Negative|      227790|\n",
            "+---------------+------------+\n",
            "\n"
          ]
        }
      ]
    },
    {
      "cell_type": "code",
      "source": [
        "from pyspark.sql.functions import col, round\n",
        "\n",
        "df_percentages = df_sentiment_counts.withColumn(\n",
        "    \"percentage\", round((col(\"approx_count\") / 2884722) * 100, 2)\n",
        ")"
      ],
      "metadata": {
        "id": "SZqKhBkdasic"
      },
      "execution_count": 16,
      "outputs": []
    },
    {
      "cell_type": "code",
      "source": [
        "df_percentages_pd = df_percentages.toPandas()\n",
        "\n",
        "import matplotlib.pyplot as plt\n",
        "\n",
        "df_percentages_pd = df_percentages_pd.sort_values(\"percentage\", ascending=False)\n",
        "\n",
        "plt.figure(figsize=(8, 6))\n",
        "bars = plt.bar(df_percentages_pd[\"sentiment_label\"], df_percentages_pd[\"percentage\"], color=[\"green\", \"red\", \"gray\"])\n",
        "\n",
        "for bar in bars:\n",
        "    height = bar.get_height()\n",
        "    plt.text(\n",
        "        bar.get_x() + bar.get_width() / 2,\n",
        "        height + 0.5,\n",
        "        f\"{height:.2f}%\",\n",
        "        ha=\"center\",\n",
        "        fontsize=11,\n",
        "        fontweight=\"bold\"\n",
        "    )\n",
        "\n",
        "plt.title(\"Sentiment Distribution of Reviews\", fontsize=14, fontweight=\"bold\")\n",
        "plt.ylabel(\"Percentage\")\n",
        "plt.xlabel(\"Sentiment\")\n",
        "plt.ylim(0, df_percentages_pd[\"percentage\"].max() + 5)\n",
        "\n",
        "plt.show()\n"
      ],
      "metadata": {
        "colab": {
          "base_uri": "https://localhost:8080/",
          "height": 565
        },
        "id": "kcIfP2lJaw6o",
        "outputId": "a129f169-38d6-4250-fcf1-4a18fb321f79"
      },
      "execution_count": 17,
      "outputs": [
        {
          "output_type": "display_data",
          "data": {
            "text/plain": [
              "<Figure size 800x600 with 1 Axes>"
            ],
            "image/png": "[encoded data removed]"
          },
          "metadata": {}
        }
      ]
    },
    {
      "cell_type": "markdown",
      "source": [
        "## TextBlob"
      ],
      "metadata": {
        "id": "F7iqcX8RbXg6"
      }
    },
    {
      "cell_type": "code",
      "source": [
        "from pyspark.sql.functions import col, when, regexp_replace\n",
        "from textblob import TextBlob\n",
        "from pyspark.sql.functions import udf\n",
        "from pyspark.sql.types import StructType, StructField, DoubleType, StringType\n",
        "\n",
        "def get_textblob_sentiment(text):\n",
        "    if text is not None and isinstance(text, str):\n",
        "        blob = TextBlob(text)\n",
        "        return float(blob.sentiment.polarity), float(blob.sentiment.subjectivity)\n",
        "    else:\n",
        "        return 0.0, 0.0\n",
        "\n",
        "schema = StructType([\n",
        "    StructField(\"polarity\", DoubleType(), True),\n",
        "    StructField(\"subjectivity\", DoubleType(), True)\n",
        "])\n",
        "\n",
        "sentiment_udf = udf(get_textblob_sentiment, schema)\n",
        "\n",
        "df_reviews = df_reviews.withColumn(\"sentiment\", sentiment_udf(\"reviews\"))\n",
        "df_reviews = df_reviews.withColumn(\"polarity\", col(\"sentiment.polarity\"))\n",
        "df_reviews = df_reviews.withColumn(\"subjectivity\", col(\"sentiment.subjectivity\"))"
      ],
      "metadata": {
        "id": "npuht5PvbKz4"
      },
      "execution_count": 18,
      "outputs": []
    },
    {
      "cell_type": "code",
      "source": [
        "from pyspark.sql.functions import when\n",
        "\n",
        "# Putting all the reviews into 3 categories based on their polarity\n",
        "df_reviews = df_reviews.withColumn(\n",
        "    \"sentiment_label\",\n",
        "    when(col(\"polarity\") <= -0.2, \"Negative\").\n",
        "    when(col(\"polarity\") <= 0.2, \"Neutral\").\n",
        "    otherwise(\"Positive\")\n",
        ")"
      ],
      "metadata": {
        "id": "5ZQBLSpxb1uS"
      },
      "execution_count": 19,
      "outputs": []
    },
    {
      "cell_type": "code",
      "source": [
        "df_reviews.select('reviews', 'polarity', 'sentiment_label').show(10, truncate=False)"
      ],
      "metadata": {
        "colab": {
          "base_uri": "https://localhost:8080/"
        },
        "id": "Hd2-B0Lkb8gk",
        "outputId": "0b41e0a8-b5fd-4116-f115-104db5c6a505"
      },
      "execution_count": 20,
      "outputs": [
        {
          "output_type": "stream",
          "name": "stdout",
          "text": [
            "+-------------------------------------------------------------------------------------------------------------------------------------------------------------------------------------------------------------------------------------------------------------------------------------------------------------------------------------------------------------------------------------------------------------------------------------------------------------------------------------------------------------------------------------------------------------------------------------------------------------------------------------------------------------------------------------------------------------------------------------------------------------------------+-------------------+---------------+\n",
            "|reviews                                                                                                                                                                                                                                                                                                                                                                                                                                                                                                                                                                                                                                                                                                                                                                  |polarity           |sentiment_label|\n",
            "+-------------------------------------------------------------------------------------------------------------------------------------------------------------------------------------------------------------------------------------------------------------------------------------------------------------------------------------------------------------------------------------------------------------------------------------------------------------------------------------------------------------------------------------------------------------------------------------------------------------------------------------------------------------------------------------------------------------------------------------------------------------------------+-------------------+---------------+\n",
            "|The pizza, steak street tacos and the portobello truffle fries and were all delicious!                                                                                                                                                                                                                                                                                                                                                                                                                                                                                                                                                                                                                                                                                   |1.0                |Positive       |\n",
            "|Great way to get around town, and very affordable.                                                                                                                                                                                                                                                                                                                                                                                                                                                                                                                                                                                                                                                                                                                       |0.5                |Positive       |\n",
            "|Went there for a volleyball tournament. The facilities are nice. They have a lot of bleacher  seating. They offered guest wifi but I didn't connect and they have a room with big tables for teams and spectators to sit  during breaks. There are outlets in that room for those workaholic parents who can be bothered to watch their kids play. They have a concessions and offer the usual fare. Such as hot dogs, nachos, sports drinks etc. I'll attach a menu. They also do not allow camping chairs, coolers and outside food. Bleacher chairs are okay to bring. The facilities is kept well I believe it is one of the top locations for a volleyball tournament. As for parking. Get there early to get a decent spot or you'll end up parking on the  street.|0.1866666666666667 |Neutral        |\n",
            "|Friendly and knowledgeable. I was able to get a copy of my pets shots.                                                                                                                                                                                                                                                                                                                                                                                                                                                                                                                                                                                                                                                                                                   |0.4375             |Positive       |\n",
            "|My personal choice for somewhat upscale dining in Woodstock. The burgers are delicious, but my go to item is the Lobster Cobb Salad. You cannot go wrong with the setting and location. Sit outside on the patio during summer and fall months when musicians play on the square.                                                                                                                                                                                                                                                                                                                                                                                                                                                                                        |0.125              |Neutral        |\n",
            "|This store has been featured on the Instagram account of “overpriced bourbon”. Tells you all you need to know. Along with the miserable old lady up front, I’m not sure why anyone would shop here. Can’t wait for a binnys to run this store into a reality check.                                                                                                                                                                                                                                                                                                                                                                                                                                                                                                      |-0.3833333333333333|Negative       |\n",
            "|I am disappointed to see negative reviews for this establishment. I am very frequent here and always have a pleasant experience. The beds are always clean, and the bathroom is spotless. The owner is kind and really helps you understand what you need,  and what works best for your budget. The pricing is fair and I have been tanning at different places. The lotions always have great sales as well.If you want a good tan with great service and price , come see Julie !!                                                                                                                                                                                                                                                                                    |0.3984615384615384 |Positive       |\n",
            "|AUAF oversee a variety  programs. I work as a Home Care Aide through them. As an employee of AUAF Home Care program I was treated with respect and dignity as a Home Aide.                                                                                                                                                                                                                                                                                                                                                                                                                                                                                                                                                                                               |0.0                |Neutral        |\n",
            "|Great neighborhood bar                                                                                                                                                                                                                                                                                                                                                                                                                                                                                                                                                                                                                                                                                                                                                   |0.8                |Positive       |\n",
            "|This is place is solid. The prices are reasonable and the portions large. However the food is not stellar. Some things are pretty good, others leave something to be desired in terms of flavorful sauces, etc. I had a frustrating customer service experience with delivery once and the owner was too frustrated/busy to resolve the issue so grubhub refunded us. It's a good local spot.                                                                                                                                                                                                                                                                                                                                                                            |0.171031746031746  |Neutral        |\n",
            "+-------------------------------------------------------------------------------------------------------------------------------------------------------------------------------------------------------------------------------------------------------------------------------------------------------------------------------------------------------------------------------------------------------------------------------------------------------------------------------------------------------------------------------------------------------------------------------------------------------------------------------------------------------------------------------------------------------------------------------------------------------------------------+-------------------+---------------+\n",
            "only showing top 10 rows\n",
            "\n"
          ]
        }
      ]
    },
    {
      "cell_type": "code",
      "source": [
        "sentiment_label_count = df_reviews.groupby('sentiment_label').count()"
      ],
      "metadata": {
        "id": "I-SOoeg5cAZj"
      },
      "execution_count": 21,
      "outputs": []
    },
    {
      "cell_type": "code",
      "source": [
        "import seaborn as sns\n",
        "import matplotlib.pyplot as plt\n",
        "\n",
        "sentiment_label_count_pd = sentiment_label_count.toPandas()\n",
        "\n",
        "sentiment_label_count_pd[\"percentage\"] = (sentiment_label_count_pd[\"count\"] /\n",
        "                                             sentiment_label_count_pd[\"count\"].sum()) * 100\n",
        "\n",
        "plt.figure(figsize=(10,6))\n",
        "ax = sns.barplot(data=sentiment_label_count_pd, x=\"sentiment_label\", y=\"count\", hue=\"sentiment_label\", palette=\"mako\")\n",
        "\n",
        "for p, perc in zip(ax.patches, sentiment_label_count_pd[\"percentage\"]):\n",
        "    height = p.get_height()\n",
        "    ax.text(p.get_x() + p.get_width() / 2, height + 0.1, f'{perc:.1f}%',\n",
        "            ha=\"center\", fontsize=10, fontweight=\"bold\")\n",
        "\n",
        "plt.title(\"Average Business Reviews Lifespan by Region\", fontsize=14)\n",
        "plt.xlabel(\"Sentiment\", fontsize=12)\n",
        "plt.ylabel(\"Count of each Sentiment\", fontsize=12)\n",
        "\n",
        "plt.show()"
      ],
      "metadata": {
        "colab": {
          "base_uri": "https://localhost:8080/",
          "height": 569
        },
        "id": "BrpdIaAwcDtS",
        "outputId": "7d6fe97f-9b6e-4be3-b067-a37d5f106419"
      },
      "execution_count": 25,
      "outputs": [
        {
          "output_type": "display_data",
          "data": {
            "text/plain": [
              "<Figure size 1000x600 with 1 Axes>"
            ],
            "image/png": "[encoded data removed]"
          },
          "metadata": {}
        }
      ]
    }
  ]
}